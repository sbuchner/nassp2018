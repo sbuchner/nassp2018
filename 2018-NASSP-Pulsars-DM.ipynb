{
 "cells": [
  {
   "cell_type": "markdown",
   "metadata": {},
   "source": [
    "# Instructions\n",
    "\n",
    "- Step 1: fill in name of data file under setup\n",
    "- Step 2: plot a frequency channel\n",
    "- Step 3: fit a gaussian to this channel\n",
    "- Step 4: plot out the fit and the data\n",
    "- Step 5: select two frequency channels and fit gaussians\n",
    "- Step 6: Use this to calculate the dispersion measure\n",
    "- Step 7: Dedisperse the data using this dispersion measure"
   ]
  },
  {
   "cell_type": "markdown",
   "metadata": {},
   "source": [
    "# Step 1: Setup"
   ]
  },
  {
   "cell_type": "code",
   "execution_count": null,
   "metadata": {},
   "outputs": [],
   "source": [
    "import numpy as np\n",
    "from matplotlib import pylab as plt\n",
    "from scipy.optimize import curve_fit\n",
    "%matplotlib inline\n",
    "\n",
    "\n",
    "file='J0738-4042.mk.dat'\n",
    "\n",
    "nchan=512\n",
    "nbin=512\n",
    "P_ms = 374\n",
    "cfreq = 1283.895508\n",
    "puls='J0738-4042'"
   ]
  },
  {
   "cell_type": "markdown",
   "metadata": {},
   "source": [
    "# Effect of the ISM on pulsar signals"
   ]
  },
  {
   "cell_type": "markdown",
   "metadata": {},
   "source": [
    "As the pulsar signal passes through the ionized medium of the interstellar medium (ISM) it is affected in a number of ways (dispersion, Faraday rotation, scintillation and scattering). In this tutorials we are going to explore aspects of the frequency dispersion. \n",
    "\n",
    "\n",
    "Pulses of electromagnetic radiation travelling through the ISM experience a delay dependent on the frequency of the radiation.\n",
    "\n",
    "![](http://www.cv.nrao.edu/course/astr534/images/PSRs_dispersion.png)\n",
    "\n",
    "Pulsar dispersion.  Uncorrected dispersive delays for a pulsar observation over a bandwidth of 288 MHz (96 channels of 3 MHz width each), centered at 1380 MHz.  The delays wrap since the data are folded (i.e. averaged) modulo the pulse period.  (From the Handbook of Pulsar Astronomy, by Lorimer and Kramer)\n",
    "\n"
   ]
  },
  {
   "cell_type": "markdown",
   "metadata": {},
   "source": [
    "\n",
    "The refractive index, $n$, of an ionised gas for a wave of frequency $\\nu$ is\n",
    "\n",
    "\\begin{equation}\n",
    "n= \\biggl[{1 -\\left(\\frac{\\nu_{\\rm p}}{\\nu}\\right)^2}\\biggr]^{1/2}\n",
    "\\end{equation} \n",
    "where $\\nu$ is the observing frequency and $\\nu_{p}$ is the plasma frequency (or resonant frequency).\n",
    "\n",
    "\n",
    "\n",
    "The plasma frequency, $\\nu_{\\rm p}$ is given by\n",
    "\n",
    "\\begin{equation}\n",
    "\\nu_{\\rm p} =\\biggl(\\frac{e^2 n_{\\rm e}}{ \\pi m_{\\rm e}}\\biggr)^{1/2} \\approx 8.97\n",
    "{\\rm ~kHz} \\times\\biggl(\\frac{n_{\\rm e}} {{\\rm cm}^{-3}}\\biggr)^{1/2}\n",
    "%\\nu_{p} = \\sqrt{\\dfrac{n_{e}e^{2}}{m_{e}\\pi}} \n",
    "\\end{equation} \n",
    "where $n_{e}$ is the electron number density, $e$ the charge on an electron and $m_{e}$ the mass of an electron.\n",
    "\n",
    "\n",
    "The average galactic ISM electron density is $n_{\\rm e} \\sim 0.03$ cm$^{-3}$ and hence the plasma frequency is $\\nu_{\\rm p}\\sim1.5 \\:\\rm kHz$.\n",
    "\n",
    "\n",
    "If $\\nu \\ll \\nu_{p}$ then the refractive index is imaginary and the wave will not propogate. For frequencies above the \n",
    "plasma frequency, $n < 1$ and the radio pulses travel at the group velocity $v_{g}=c \\times n$ which will be less than c.\n",
    "\n",
    "\n",
    "Radio observations are generally made at frequencies much greater than the plasma frequency $\\nu_{p} \\ll \\nu$ and the group velocity can be given by \n",
    "\n",
    "\\begin{equation}\n",
    "v_{\\rm g}\\approx c\\biggl(1 - \\frac{\\nu_{\\rm p}^2}{2\\nu^2}\\biggr)\n",
    "\\end{equation} \n",
    "\n",
    "\n",
    "If the pulse at a frequency, $\\nu$, travels over a distance L from the pulsar to earth then it will be delayed in time with respect to a signal of infinite frequency (i.e. travelling at c) by an amount\n",
    "\\begin{equation}\n",
    "t = \\int_0^L \\dfrac{dl}{v_{g}} -\\dfrac{L}{c}\n",
    "\\end{equation} \n",
    "\n",
    "\n",
    "Assuming that $\\nu_{p} \\ll \\nu$ and substituting the dispersion delay, $t$, is\n",
    "\\begin{equation}\n",
    "t = \\int_0^L v_{\\rm g}^{-1} dl - \\frac{L}{c} =\n",
    "\\frac{1}{c}\\int_0^L \\biggl(1 + \\frac{\\nu_p^2}{2\\nu^2}\\biggr) dl - \\frac{L}{c} = \\frac{e^2}{2\\pi m_{\\rm e} c} \\frac{\\int_0^Ln_{\\rm e} dl}{\\nu^2}.\n",
    "%t = \\dfrac{e^{2}}{2\\pi m_{e}c} \\dfrac{\\int_0^d n_{e} dl}{\\nu^{2}} =  \\mathcal{D} \\times \\dfrac{DM}{\\nu^{2}}\n",
    "\\end{equation} \n",
    "\n",
    "where the dispersion measure (usually expressed as $ \\rm cm^{-3}\\:\\rm pc$) is\n",
    "\\begin{equation}\n",
    "\\rm DM =  \\int_0^L n_{e} \\: dl\n",
    "\\end{equation} \n",
    "\n",
    "\n",
    "The dispersive delay, in seconds, of a pulse observed at frequency $\\nu$, in MHz, is \n",
    "\\begin{equation}\n",
    "t = 4.149\\times10^3 \\biggl(DM\\biggr) \\biggl(\\frac{1}{\\nu}\\biggr)^{2}\n",
    "\\end{equation}\n",
    "\n",
    "The delay, $\\Delta t$ between the arrival times of pulses at frequencies, $\\nu_{lo}$ and $\\nu_{hi}$ is given by\n",
    "\\begin{equation}\n",
    "\\Delta t = 4.149\\times10^3 \\biggl(DM\\biggr) \\biggl[\\frac{1}{\\nu_{lo}^{2}}-\\frac{1}{\\nu_{hi}^{2}}\\biggr]\n",
    "\\end{equation}\n",
    "\n"
   ]
  },
  {
   "cell_type": "markdown",
   "metadata": {},
   "source": [
    "If a receiver has a bandwidth B (MHz) centred on a frequency $\\nu$ then the pulse will be smeared by an amount\n",
    "\\begin{equation}\n",
    "\\biggl(\\frac {\\bigtriangleup t}{\\rm secs} \\biggr) = 8.3 \\times 10^{3} \\biggl(\\frac{\\rm DM} {\\rm pc~cm^{-3}}\\biggr) \\biggl(\\frac{\\nu} {\\rm MHz}\\biggr)^{-3} \\biggl(\\frac{B} {\\rm MHz}\\biggr)\n",
    "\\label{dispersion} \n",
    "\\end{equation} "
   ]
  },
  {
   "cell_type": "markdown",
   "metadata": {},
   "source": [
    "# MeerKAT observation of J0738-4042\n",
    "The data files contains a folded observation of the pulsar, J0738-4042 using MeerKAT.\n",
    "\n",
    "There are 512 frequency channels and 512 phase bins.\n",
    "\n",
    "\n",
    "\n",
    "Each line consists of three values\n",
    "\n",
    "ichan, ibin, value\n",
    "\n",
    "where ichan is the frequency channel, ibin is the bin number and value is the signal level.\n"
   ]
  },
  {
   "cell_type": "markdown",
   "metadata": {},
   "source": [
    "## Read data into an array\n"
   ]
  },
  {
   "cell_type": "code",
   "execution_count": null,
   "metadata": {},
   "outputs": [],
   "source": [
    "DataFile = file\n",
    "\n",
    "f=open(DataFile,'r')\n",
    "\n",
    "Data=np.zeros((nchan,nbin),dtype=float)\n",
    "\n",
    "for line in f:\n",
    "    columns=line.split()\n",
    "    Data[int(columns[0]),int(columns[1])]=columns[2]\n",
    "\n",
    "T=np.linspace(0,P_ms,nbin)\n",
    "freq=np.linspace(-438,428,nchan)+cfreq"
   ]
  },
  {
   "cell_type": "code",
   "execution_count": null,
   "metadata": {},
   "outputs": [],
   "source": [
    "plt.matshow(Data,cmap=None)"
   ]
  },
  {
   "cell_type": "markdown",
   "metadata": {},
   "source": [
    "## 2. Plot a frequency channel\n",
    "Plot a single frequency channel as a function of time\n",
    "\n",
    "Choose a frequency channel FChan"
   ]
  },
  {
   "cell_type": "code",
   "execution_count": null,
   "metadata": {},
   "outputs": [],
   "source": [
    "figure=plt.figure(figsize=(15,10))\n",
    "\n",
    "FChan = \n",
    "\n",
    "plt.title(\"Pulsar profiles\")\n",
    "plt.xlabel(\"Time / ms]\")\n",
    "plt.ylabel(\"Signal\")\n",
    "\n",
    "Profile = Data[FChan,:]\n",
    "\n",
    "# subtract a baseline\n",
    "Profile = Profile - np.mean(Profile)\n",
    "\n",
    "flabel=\"%.2f MHz\" %freq[FChan]\n",
    "plt.plot(T,Profile,'g.',label=flabel)\n",
    "plt.legend()"
   ]
  },
  {
   "cell_type": "markdown",
   "metadata": {},
   "source": [
    "## 3. Fit a gaussian profile\n",
    "\n",
    "Fit a Gaussian to this profile to determine the position of the pulse peak"
   ]
  },
  {
   "cell_type": "code",
   "execution_count": null,
   "metadata": {},
   "outputs": [],
   "source": [
    "def gauss(x, *p):\n",
    "        A, x0, sigma,base = p\n",
    "        return base+A*np.exp(-(x-x0)**2/(2.*sigma**2))\n",
    "\n"
   ]
  },
  {
   "cell_type": "code",
   "execution_count": null,
   "metadata": {},
   "outputs": [],
   "source": [
    "# make an initial guess\n",
    "\n",
    "A1 =                  # amplitude\n",
    "x0 =                     # position\n",
    "sigma =                   # gaussian width\n",
    "base=0.0\n",
    "\n",
    "init=[A1,x0,sigma,base]\n",
    "\n",
    "coeff,var=curve_fit(gauss,T,Profile,p0=init)\n",
    "\n",
    "print (\"Amplitude = %.2f\" % coeff[0])\n",
    "print (\"Time = %.2f\" %coeff[1])\n",
    "print (\"Sigma = %.2f\"%coeff[2])\n",
    "print (\"base = %.2f\" %coeff[3])\n"
   ]
  },
  {
   "cell_type": "markdown",
   "metadata": {},
   "source": [
    "## 4. Plot out the fit and the profile"
   ]
  },
  {
   "cell_type": "code",
   "execution_count": null,
   "metadata": {},
   "outputs": [],
   "source": [
    "figure=plt.figure(figsize=(15,10))\n",
    "\n",
    "plt.title(\"Pulsar profiles\")\n",
    "plt.ylabel(\"Time / [ms]\")\n",
    "plt.xlabel(\"Signal\")\n",
    "\n",
    "\n",
    "fit=gauss(T,*coeff)\n",
    "flabel=\"%.2f MHz\" %freq[FChan]\n",
    "plt.plot(T,Profile,'b.',label = \"Data \" + flabel)\n",
    "plt.plot(T,fit,'r',label = \"Fit\")\n",
    "\n",
    "plt.legend()\n",
    "\n"
   ]
  },
  {
   "cell_type": "markdown",
   "metadata": {},
   "source": [
    "## 5 Now use two widely separated profiles\n",
    "\n",
    "- Fit gaussians to both profiles\n",
    "- calculate the difference in arrival times between the two profiles\n",
    "- calculate the frequency for each channel\n",
    "- find the dispersion measure"
   ]
  },
  {
   "cell_type": "code",
   "execution_count": null,
   "metadata": {
    "scrolled": true
   },
   "outputs": [],
   "source": [
    "figure=plt.figure(figsize=(15,10))\n",
    "\n",
    "FChanLo = \n",
    "FChanHi = \n",
    "\n",
    "plt.title(\"Pulsar profiles\")\n",
    "plt.xlabel(\"Time / [ms]\")\n",
    "plt.ylabel(\"Signal\")\n",
    "\n",
    "ProfileLo = Data[FChanLo,:]\n",
    "ProfileLo = ProfileLo - np.mean(ProfileLo)\n",
    "\n",
    "ProfileHi = Data[FChanHi,:]\n",
    "ProfileHi = ProfileHi - np.mean(ProfileHi)\n",
    "\n",
    "flabel1=\"%.2f MHz\" %freq[FChanLo]\n",
    "flabel2=\"%.2f MHz\" %freq[FChanHi]\n",
    "plt.plot(T,ProfileLo,'g',label=\"lo \" + flabel1)\n",
    "plt.plot(T,ProfileHi,'b',label=\"hi \" + flabel2)\n",
    "\n",
    "plt.grid()\n",
    "plt.legend()\n"
   ]
  },
  {
   "cell_type": "markdown",
   "metadata": {},
   "source": [
    "Now fit a gaussian to each profile to find the centre of the profile. \n",
    "\n",
    "Use this to calculate the delay between the profiles and hence the dispersion measure for the pulsar\n"
   ]
  },
  {
   "cell_type": "markdown",
   "metadata": {},
   "source": [
    "### Profile 1 - low frequency - green"
   ]
  },
  {
   "cell_type": "code",
   "execution_count": null,
   "metadata": {},
   "outputs": [],
   "source": [
    "# make an initial guess\n",
    "\n",
    "A1 =                  # amplitude\n",
    "x0 =                     # position\n",
    "sigma =                   # gaussian width\n",
    "base=0.0\n",
    "\n",
    "init=[A1,x0,sigma,base]\n",
    "\n",
    "coeffLo,var=curve_fit(gauss,T,ProfileLo,p0=init)\n",
    "\n",
    "print (\"Amplitude = %.2f\" % coeffLo[0])\n",
    "print (\"Time = %.2f\" %coeffLo[1])\n",
    "print (\"Sigma = %.2f\"%coeffLo[2])\n",
    "print (\"base = %.2f\" %coeffLo[3])\n",
    "\n",
    "tLo = coeffLo[1]\n"
   ]
  },
  {
   "cell_type": "markdown",
   "metadata": {},
   "source": [
    "### Profile2 high frequency"
   ]
  },
  {
   "cell_type": "code",
   "execution_count": null,
   "metadata": {},
   "outputs": [],
   "source": [
    "# Profile 2\n",
    "# make an initial guess\n",
    "\n",
    "A1 =                  # amplitude\n",
    "x0 =                    # position\n",
    "sigma =                   # gaussian width\n",
    "base=\n",
    "\n",
    "init=[A1,x0,sigma,base]\n",
    "\n",
    "coeffHi,var=curve_fit(gauss,T,ProfileHi,p0=init)\n",
    "\n",
    "print (\"Time = %.2f\" %coeffHi[1])\n",
    "print (\"Amplitude = %.2f\" % coeffHi[0])\n",
    "print (\"Sigma = %.2f\"%coeffHi[2])\n",
    "print (\"base = %.2f\" %coeffHi[3])\n",
    "\n",
    "tHi = coeffHi[1]"
   ]
  },
  {
   "cell_type": "code",
   "execution_count": null,
   "metadata": {},
   "outputs": [],
   "source": [
    "# Plot profiles and fits together\n",
    "\n",
    "figure=plt.figure(figsize=(15,10))\n",
    "\n",
    "plt.title(\"profiles\")\n",
    "plt.xlabel(\"Time / [ms]\")\n",
    "plt.ylabel(\"Signal\")\n",
    "\n",
    "# Plot the two profiles\n",
    "\n",
    "plt.plot(T,ProfileLo,'g.',label=flabel1)\n",
    "plt.plot(T,ProfileHi,'b.',label=flabel2)\n",
    "fitLo=gauss(T,*coeffLo)\n",
    "fitHi=gauss(T,*coeffHi)\n",
    "plt.plot(T,fitLo,'g')\n",
    "plt.plot(T,fitHi,'b')\n",
    "plt.grid()\n",
    "\n",
    "plt.legend()\n"
   ]
  },
  {
   "cell_type": "markdown",
   "metadata": {},
   "source": [
    "### Calculate the dispersion measure for the pulsar"
   ]
  },
  {
   "cell_type": "markdown",
   "metadata": {},
   "source": [
    "\n",
    "\n",
    "The delay, $\\Delta t$ between the arrival times of pulses at frequencies, $\\nu_{lo}$ and $\\nu_{hi}$ is given by\n",
    "\\begin{equation}\n",
    "\\Delta t = 4.149\\times10^3 \\biggl(DM\\biggr) \\biggl[\\frac{1}{\\nu_{lo}^{2}}-\\frac{1}{\\nu_{hi}^{2}}\\biggr]\n",
    "\\end{equation}\n"
   ]
  },
  {
   "cell_type": "code",
   "execution_count": null,
   "metadata": {},
   "outputs": [],
   "source": [
    "fLo = freq[FChanLo]                         # frequency of Profile1\n",
    "fHi = freq[FChanHi]                       # frequency of Profile2\n",
    "\n"
   ]
  },
  {
   "cell_type": "markdown",
   "metadata": {},
   "source": [
    "## Step 8: Use your dispersion measure to dedisperse the data"
   ]
  },
  {
   "cell_type": "code",
   "execution_count": null,
   "metadata": {},
   "outputs": [],
   "source": [
    "# This routine rotates an array by nbins\n",
    "def rotate_array(arr, nbins):\n",
    "    return [arr[(nbins + i) % len(arr)] for i in range(len(arr))]b"
   ]
  },
  {
   "cell_type": "markdown",
   "metadata": {},
   "source": [
    "dedisperse the array to a centre frequency of 1284\n",
    "\n",
    "for each chan\n",
    "    get the profile for that chan\n",
    "    get the frequency\n",
    "    find the shift in time with respect to the centre frequency\n",
    "    calculate the number of bins\n",
    "    Profile2=rotate_array(Profile,bins)"
   ]
  },
  {
   "cell_type": "code",
   "execution_count": null,
   "metadata": {},
   "outputs": [],
   "source": [
    "# dedisperse the array to a centre frequency of 1284\n",
    "\n",
    "#set up an array of zeros to hold dedispersed array\n",
    "\n",
    "Dedispersed=np.zeros((nbin,nchan),dtype=float)\n",
    "\n",
    "cfreq=1284\n",
    "\n",
    "for chan in range(len(Data[:,0])):\n",
    "\n",
    "    Profile=Data[chan,:]\n",
    "    f=freq[chan]\n",
    "    \n",
    "    # calculate the shift in time for this channel with frequency f\n",
    "    shift= \n",
    "    \n",
    "    # how many bins is this?\n",
    "    \n",
    "    bins=\n",
    "    \n",
    "    # rotate the profile by this number of bins\n",
    "\n",
    "    NewProfile=rotate_array(Profile,bins)\n",
    "\n",
    "    Dedispersed[chan,:]=NewProfile\n",
    "\n",
    "plt.matshow(Dedispersed)\n",
    "\n",
    "\n"
   ]
  }
 ],
 "metadata": {
  "kernelspec": {
   "display_name": "Python 2",
   "language": "python",
   "name": "python2"
  },
  "language_info": {
   "codemirror_mode": {
    "name": "ipython",
    "version": 2
   },
   "file_extension": ".py",
   "mimetype": "text/x-python",
   "name": "python",
   "nbconvert_exporter": "python",
   "pygments_lexer": "ipython2",
   "version": "2.7.12"
  },
  "widgets": {
   "state": {},
   "version": "1.1.2"
  }
 },
 "nbformat": 4,
 "nbformat_minor": 1
}
